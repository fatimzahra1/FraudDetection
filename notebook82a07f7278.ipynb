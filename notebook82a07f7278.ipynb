{
 "cells": [
  {
   "cell_type": "code",
   "execution_count": 1,
   "id": "75a100d2",
   "metadata": {
    "_cell_guid": "b1076dfc-b9ad-4769-8c92-a6c4dae69d19",
    "_uuid": "8f2839f25d086af736a60e9eeb907d3b93b6e0e5",
    "execution": {
     "iopub.execute_input": "2023-07-06T10:58:49.835396Z",
     "iopub.status.busy": "2023-07-06T10:58:49.835048Z",
     "iopub.status.idle": "2023-07-06T10:58:51.456666Z",
     "shell.execute_reply": "2023-07-06T10:58:51.455214Z"
    },
    "papermill": {
     "duration": 1.634358,
     "end_time": "2023-07-06T10:58:51.458806",
     "exception": false,
     "start_time": "2023-07-06T10:58:49.824448",
     "status": "completed"
    },
    "tags": []
   },
   "outputs": [
    {
     "name": "stdout",
     "output_type": "stream",
     "text": [
      "/kaggle/input/creditcardfraud/creditcard.csv\n"
     ]
    }
   ],
   "source": [
    "# This Python 3 environment comes with many helpful analytics libraries installed\n",
    "# It is defined by the kaggle/python Docker image: https://github.com/kaggle/docker-python\n",
    "# For example, here's several helpful packages to load\n",
    "\n",
    "import numpy as np # linear algebra\n",
    "import pandas as pd # data processing, CSV file I/O (e.g. pd.read_csv)\n",
    "import seaborn as sns\n",
    "import matplotlib.pyplot as plt\n",
    "\n",
    "# Input data files are available in the read-only \"../input/\" directory\n",
    "# For example, running this (by clicking run or pressing Shift+Enter) will list all files under the input directory\n",
    "\n",
    "import os\n",
    "for dirname, _, filenames in os.walk('/kaggle/input'):\n",
    "    for filename in filenames:\n",
    "        print(os.path.join(dirname, filename))\n",
    "\n",
    "# You can write up to 20GB to the current directory (/kaggle/working/) that gets preserved as output when you create a version using \"Save & Run All\" \n",
    "# You can also write temporary files to /kaggle/temp/, but they won't be saved outside of the current session"
   ]
  },
  {
   "cell_type": "code",
   "execution_count": 2,
   "id": "d5b66744",
   "metadata": {
    "execution": {
     "iopub.execute_input": "2023-07-06T10:58:51.475610Z",
     "iopub.status.busy": "2023-07-06T10:58:51.475247Z",
     "iopub.status.idle": "2023-07-06T10:58:54.917753Z",
     "shell.execute_reply": "2023-07-06T10:58:54.916278Z"
    },
    "papermill": {
     "duration": 3.45368,
     "end_time": "2023-07-06T10:58:54.919881",
     "exception": false,
     "start_time": "2023-07-06T10:58:51.466201",
     "status": "completed"
    },
    "tags": []
   },
   "outputs": [
    {
     "data": {
      "text/html": [
       "<div>\n",
       "<style scoped>\n",
       "    .dataframe tbody tr th:only-of-type {\n",
       "        vertical-align: middle;\n",
       "    }\n",
       "\n",
       "    .dataframe tbody tr th {\n",
       "        vertical-align: top;\n",
       "    }\n",
       "\n",
       "    .dataframe thead th {\n",
       "        text-align: right;\n",
       "    }\n",
       "</style>\n",
       "<table border=\"1\" class=\"dataframe\">\n",
       "  <thead>\n",
       "    <tr style=\"text-align: right;\">\n",
       "      <th></th>\n",
       "      <th>Time</th>\n",
       "      <th>V1</th>\n",
       "      <th>V2</th>\n",
       "      <th>V3</th>\n",
       "      <th>V4</th>\n",
       "      <th>V5</th>\n",
       "      <th>V6</th>\n",
       "      <th>V7</th>\n",
       "      <th>V8</th>\n",
       "      <th>V9</th>\n",
       "      <th>...</th>\n",
       "      <th>V21</th>\n",
       "      <th>V22</th>\n",
       "      <th>V23</th>\n",
       "      <th>V24</th>\n",
       "      <th>V25</th>\n",
       "      <th>V26</th>\n",
       "      <th>V27</th>\n",
       "      <th>V28</th>\n",
       "      <th>Amount</th>\n",
       "      <th>Class</th>\n",
       "    </tr>\n",
       "  </thead>\n",
       "  <tbody>\n",
       "    <tr>\n",
       "      <th>0</th>\n",
       "      <td>0.0</td>\n",
       "      <td>-1.359807</td>\n",
       "      <td>-0.072781</td>\n",
       "      <td>2.536347</td>\n",
       "      <td>1.378155</td>\n",
       "      <td>-0.338321</td>\n",
       "      <td>0.462388</td>\n",
       "      <td>0.239599</td>\n",
       "      <td>0.098698</td>\n",
       "      <td>0.363787</td>\n",
       "      <td>...</td>\n",
       "      <td>-0.018307</td>\n",
       "      <td>0.277838</td>\n",
       "      <td>-0.110474</td>\n",
       "      <td>0.066928</td>\n",
       "      <td>0.128539</td>\n",
       "      <td>-0.189115</td>\n",
       "      <td>0.133558</td>\n",
       "      <td>-0.021053</td>\n",
       "      <td>149.62</td>\n",
       "      <td>0</td>\n",
       "    </tr>\n",
       "    <tr>\n",
       "      <th>1</th>\n",
       "      <td>0.0</td>\n",
       "      <td>1.191857</td>\n",
       "      <td>0.266151</td>\n",
       "      <td>0.166480</td>\n",
       "      <td>0.448154</td>\n",
       "      <td>0.060018</td>\n",
       "      <td>-0.082361</td>\n",
       "      <td>-0.078803</td>\n",
       "      <td>0.085102</td>\n",
       "      <td>-0.255425</td>\n",
       "      <td>...</td>\n",
       "      <td>-0.225775</td>\n",
       "      <td>-0.638672</td>\n",
       "      <td>0.101288</td>\n",
       "      <td>-0.339846</td>\n",
       "      <td>0.167170</td>\n",
       "      <td>0.125895</td>\n",
       "      <td>-0.008983</td>\n",
       "      <td>0.014724</td>\n",
       "      <td>2.69</td>\n",
       "      <td>0</td>\n",
       "    </tr>\n",
       "  </tbody>\n",
       "</table>\n",
       "<p>2 rows × 31 columns</p>\n",
       "</div>"
      ],
      "text/plain": [
       "   Time        V1        V2        V3        V4        V5        V6        V7  \\\n",
       "0   0.0 -1.359807 -0.072781  2.536347  1.378155 -0.338321  0.462388  0.239599   \n",
       "1   0.0  1.191857  0.266151  0.166480  0.448154  0.060018 -0.082361 -0.078803   \n",
       "\n",
       "         V8        V9  ...       V21       V22       V23       V24       V25  \\\n",
       "0  0.098698  0.363787  ... -0.018307  0.277838 -0.110474  0.066928  0.128539   \n",
       "1  0.085102 -0.255425  ... -0.225775 -0.638672  0.101288 -0.339846  0.167170   \n",
       "\n",
       "        V26       V27       V28  Amount  Class  \n",
       "0 -0.189115  0.133558 -0.021053  149.62      0  \n",
       "1  0.125895 -0.008983  0.014724    2.69      0  \n",
       "\n",
       "[2 rows x 31 columns]"
      ]
     },
     "execution_count": 2,
     "metadata": {},
     "output_type": "execute_result"
    }
   ],
   "source": [
    "df=pd.read_csv(\"../input/creditcardfraud/creditcard.csv\")\n",
    "df.head(2)"
   ]
  },
  {
   "cell_type": "markdown",
   "id": "e7a2485d",
   "metadata": {
    "papermill": {
     "duration": 0.007121,
     "end_time": "2023-07-06T10:58:54.934627",
     "exception": false,
     "start_time": "2023-07-06T10:58:54.927506",
     "status": "completed"
    },
    "tags": []
   },
   "source": [
    "# Expoloratory Data Analysis (EDA)"
   ]
  },
  {
   "cell_type": "code",
   "execution_count": 3,
   "id": "9b4a46f9",
   "metadata": {
    "execution": {
     "iopub.execute_input": "2023-07-06T10:58:54.952166Z",
     "iopub.status.busy": "2023-07-06T10:58:54.951801Z",
     "iopub.status.idle": "2023-07-06T10:58:54.986140Z",
     "shell.execute_reply": "2023-07-06T10:58:54.984482Z"
    },
    "papermill": {
     "duration": 0.046255,
     "end_time": "2023-07-06T10:58:54.988581",
     "exception": false,
     "start_time": "2023-07-06T10:58:54.942326",
     "status": "completed"
    },
    "tags": []
   },
   "outputs": [
    {
     "name": "stdout",
     "output_type": "stream",
     "text": [
      "<class 'pandas.core.frame.DataFrame'>\n",
      "RangeIndex: 284807 entries, 0 to 284806\n",
      "Data columns (total 31 columns):\n",
      " #   Column  Non-Null Count   Dtype  \n",
      "---  ------  --------------   -----  \n",
      " 0   Time    284807 non-null  float64\n",
      " 1   V1      284807 non-null  float64\n",
      " 2   V2      284807 non-null  float64\n",
      " 3   V3      284807 non-null  float64\n",
      " 4   V4      284807 non-null  float64\n",
      " 5   V5      284807 non-null  float64\n",
      " 6   V6      284807 non-null  float64\n",
      " 7   V7      284807 non-null  float64\n",
      " 8   V8      284807 non-null  float64\n",
      " 9   V9      284807 non-null  float64\n",
      " 10  V10     284807 non-null  float64\n",
      " 11  V11     284807 non-null  float64\n",
      " 12  V12     284807 non-null  float64\n",
      " 13  V13     284807 non-null  float64\n",
      " 14  V14     284807 non-null  float64\n",
      " 15  V15     284807 non-null  float64\n",
      " 16  V16     284807 non-null  float64\n",
      " 17  V17     284807 non-null  float64\n",
      " 18  V18     284807 non-null  float64\n",
      " 19  V19     284807 non-null  float64\n",
      " 20  V20     284807 non-null  float64\n",
      " 21  V21     284807 non-null  float64\n",
      " 22  V22     284807 non-null  float64\n",
      " 23  V23     284807 non-null  float64\n",
      " 24  V24     284807 non-null  float64\n",
      " 25  V25     284807 non-null  float64\n",
      " 26  V26     284807 non-null  float64\n",
      " 27  V27     284807 non-null  float64\n",
      " 28  V28     284807 non-null  float64\n",
      " 29  Amount  284807 non-null  float64\n",
      " 30  Class   284807 non-null  int64  \n",
      "dtypes: float64(30), int64(1)\n",
      "memory usage: 67.4 MB\n"
     ]
    }
   ],
   "source": [
    "df.info()"
   ]
  },
  {
   "cell_type": "code",
   "execution_count": 4,
   "id": "cb628cdf",
   "metadata": {
    "execution": {
     "iopub.execute_input": "2023-07-06T10:58:55.005840Z",
     "iopub.status.busy": "2023-07-06T10:58:55.005032Z",
     "iopub.status.idle": "2023-07-06T10:58:55.389432Z",
     "shell.execute_reply": "2023-07-06T10:58:55.387828Z"
    },
    "papermill": {
     "duration": 0.395381,
     "end_time": "2023-07-06T10:58:55.391776",
     "exception": false,
     "start_time": "2023-07-06T10:58:54.996395",
     "status": "completed"
    },
    "tags": []
   },
   "outputs": [
    {
     "data": {
      "text/html": [
       "<div>\n",
       "<style scoped>\n",
       "    .dataframe tbody tr th:only-of-type {\n",
       "        vertical-align: middle;\n",
       "    }\n",
       "\n",
       "    .dataframe tbody tr th {\n",
       "        vertical-align: top;\n",
       "    }\n",
       "\n",
       "    .dataframe thead th {\n",
       "        text-align: right;\n",
       "    }\n",
       "</style>\n",
       "<table border=\"1\" class=\"dataframe\">\n",
       "  <thead>\n",
       "    <tr style=\"text-align: right;\">\n",
       "      <th></th>\n",
       "      <th>Time</th>\n",
       "      <th>V1</th>\n",
       "      <th>V2</th>\n",
       "      <th>V3</th>\n",
       "      <th>V4</th>\n",
       "      <th>V5</th>\n",
       "      <th>V6</th>\n",
       "      <th>V7</th>\n",
       "      <th>V8</th>\n",
       "      <th>V9</th>\n",
       "      <th>...</th>\n",
       "      <th>V21</th>\n",
       "      <th>V22</th>\n",
       "      <th>V23</th>\n",
       "      <th>V24</th>\n",
       "      <th>V25</th>\n",
       "      <th>V26</th>\n",
       "      <th>V27</th>\n",
       "      <th>V28</th>\n",
       "      <th>Amount</th>\n",
       "      <th>Class</th>\n",
       "    </tr>\n",
       "  </thead>\n",
       "  <tbody>\n",
       "    <tr>\n",
       "      <th>count</th>\n",
       "      <td>284807.000000</td>\n",
       "      <td>2.848070e+05</td>\n",
       "      <td>2.848070e+05</td>\n",
       "      <td>2.848070e+05</td>\n",
       "      <td>2.848070e+05</td>\n",
       "      <td>2.848070e+05</td>\n",
       "      <td>2.848070e+05</td>\n",
       "      <td>2.848070e+05</td>\n",
       "      <td>2.848070e+05</td>\n",
       "      <td>2.848070e+05</td>\n",
       "      <td>...</td>\n",
       "      <td>2.848070e+05</td>\n",
       "      <td>2.848070e+05</td>\n",
       "      <td>2.848070e+05</td>\n",
       "      <td>2.848070e+05</td>\n",
       "      <td>2.848070e+05</td>\n",
       "      <td>2.848070e+05</td>\n",
       "      <td>2.848070e+05</td>\n",
       "      <td>2.848070e+05</td>\n",
       "      <td>284807.000000</td>\n",
       "      <td>284807.000000</td>\n",
       "    </tr>\n",
       "    <tr>\n",
       "      <th>mean</th>\n",
       "      <td>94813.859575</td>\n",
       "      <td>1.168375e-15</td>\n",
       "      <td>3.416908e-16</td>\n",
       "      <td>-1.379537e-15</td>\n",
       "      <td>2.074095e-15</td>\n",
       "      <td>9.604066e-16</td>\n",
       "      <td>1.487313e-15</td>\n",
       "      <td>-5.556467e-16</td>\n",
       "      <td>1.213481e-16</td>\n",
       "      <td>-2.406331e-15</td>\n",
       "      <td>...</td>\n",
       "      <td>1.654067e-16</td>\n",
       "      <td>-3.568593e-16</td>\n",
       "      <td>2.578648e-16</td>\n",
       "      <td>4.473266e-15</td>\n",
       "      <td>5.340915e-16</td>\n",
       "      <td>1.683437e-15</td>\n",
       "      <td>-3.660091e-16</td>\n",
       "      <td>-1.227390e-16</td>\n",
       "      <td>88.349619</td>\n",
       "      <td>0.001727</td>\n",
       "    </tr>\n",
       "    <tr>\n",
       "      <th>std</th>\n",
       "      <td>47488.145955</td>\n",
       "      <td>1.958696e+00</td>\n",
       "      <td>1.651309e+00</td>\n",
       "      <td>1.516255e+00</td>\n",
       "      <td>1.415869e+00</td>\n",
       "      <td>1.380247e+00</td>\n",
       "      <td>1.332271e+00</td>\n",
       "      <td>1.237094e+00</td>\n",
       "      <td>1.194353e+00</td>\n",
       "      <td>1.098632e+00</td>\n",
       "      <td>...</td>\n",
       "      <td>7.345240e-01</td>\n",
       "      <td>7.257016e-01</td>\n",
       "      <td>6.244603e-01</td>\n",
       "      <td>6.056471e-01</td>\n",
       "      <td>5.212781e-01</td>\n",
       "      <td>4.822270e-01</td>\n",
       "      <td>4.036325e-01</td>\n",
       "      <td>3.300833e-01</td>\n",
       "      <td>250.120109</td>\n",
       "      <td>0.041527</td>\n",
       "    </tr>\n",
       "    <tr>\n",
       "      <th>min</th>\n",
       "      <td>0.000000</td>\n",
       "      <td>-5.640751e+01</td>\n",
       "      <td>-7.271573e+01</td>\n",
       "      <td>-4.832559e+01</td>\n",
       "      <td>-5.683171e+00</td>\n",
       "      <td>-1.137433e+02</td>\n",
       "      <td>-2.616051e+01</td>\n",
       "      <td>-4.355724e+01</td>\n",
       "      <td>-7.321672e+01</td>\n",
       "      <td>-1.343407e+01</td>\n",
       "      <td>...</td>\n",
       "      <td>-3.483038e+01</td>\n",
       "      <td>-1.093314e+01</td>\n",
       "      <td>-4.480774e+01</td>\n",
       "      <td>-2.836627e+00</td>\n",
       "      <td>-1.029540e+01</td>\n",
       "      <td>-2.604551e+00</td>\n",
       "      <td>-2.256568e+01</td>\n",
       "      <td>-1.543008e+01</td>\n",
       "      <td>0.000000</td>\n",
       "      <td>0.000000</td>\n",
       "    </tr>\n",
       "    <tr>\n",
       "      <th>25%</th>\n",
       "      <td>54201.500000</td>\n",
       "      <td>-9.203734e-01</td>\n",
       "      <td>-5.985499e-01</td>\n",
       "      <td>-8.903648e-01</td>\n",
       "      <td>-8.486401e-01</td>\n",
       "      <td>-6.915971e-01</td>\n",
       "      <td>-7.682956e-01</td>\n",
       "      <td>-5.540759e-01</td>\n",
       "      <td>-2.086297e-01</td>\n",
       "      <td>-6.430976e-01</td>\n",
       "      <td>...</td>\n",
       "      <td>-2.283949e-01</td>\n",
       "      <td>-5.423504e-01</td>\n",
       "      <td>-1.618463e-01</td>\n",
       "      <td>-3.545861e-01</td>\n",
       "      <td>-3.171451e-01</td>\n",
       "      <td>-3.269839e-01</td>\n",
       "      <td>-7.083953e-02</td>\n",
       "      <td>-5.295979e-02</td>\n",
       "      <td>5.600000</td>\n",
       "      <td>0.000000</td>\n",
       "    </tr>\n",
       "    <tr>\n",
       "      <th>50%</th>\n",
       "      <td>84692.000000</td>\n",
       "      <td>1.810880e-02</td>\n",
       "      <td>6.548556e-02</td>\n",
       "      <td>1.798463e-01</td>\n",
       "      <td>-1.984653e-02</td>\n",
       "      <td>-5.433583e-02</td>\n",
       "      <td>-2.741871e-01</td>\n",
       "      <td>4.010308e-02</td>\n",
       "      <td>2.235804e-02</td>\n",
       "      <td>-5.142873e-02</td>\n",
       "      <td>...</td>\n",
       "      <td>-2.945017e-02</td>\n",
       "      <td>6.781943e-03</td>\n",
       "      <td>-1.119293e-02</td>\n",
       "      <td>4.097606e-02</td>\n",
       "      <td>1.659350e-02</td>\n",
       "      <td>-5.213911e-02</td>\n",
       "      <td>1.342146e-03</td>\n",
       "      <td>1.124383e-02</td>\n",
       "      <td>22.000000</td>\n",
       "      <td>0.000000</td>\n",
       "    </tr>\n",
       "    <tr>\n",
       "      <th>75%</th>\n",
       "      <td>139320.500000</td>\n",
       "      <td>1.315642e+00</td>\n",
       "      <td>8.037239e-01</td>\n",
       "      <td>1.027196e+00</td>\n",
       "      <td>7.433413e-01</td>\n",
       "      <td>6.119264e-01</td>\n",
       "      <td>3.985649e-01</td>\n",
       "      <td>5.704361e-01</td>\n",
       "      <td>3.273459e-01</td>\n",
       "      <td>5.971390e-01</td>\n",
       "      <td>...</td>\n",
       "      <td>1.863772e-01</td>\n",
       "      <td>5.285536e-01</td>\n",
       "      <td>1.476421e-01</td>\n",
       "      <td>4.395266e-01</td>\n",
       "      <td>3.507156e-01</td>\n",
       "      <td>2.409522e-01</td>\n",
       "      <td>9.104512e-02</td>\n",
       "      <td>7.827995e-02</td>\n",
       "      <td>77.165000</td>\n",
       "      <td>0.000000</td>\n",
       "    </tr>\n",
       "    <tr>\n",
       "      <th>max</th>\n",
       "      <td>172792.000000</td>\n",
       "      <td>2.454930e+00</td>\n",
       "      <td>2.205773e+01</td>\n",
       "      <td>9.382558e+00</td>\n",
       "      <td>1.687534e+01</td>\n",
       "      <td>3.480167e+01</td>\n",
       "      <td>7.330163e+01</td>\n",
       "      <td>1.205895e+02</td>\n",
       "      <td>2.000721e+01</td>\n",
       "      <td>1.559499e+01</td>\n",
       "      <td>...</td>\n",
       "      <td>2.720284e+01</td>\n",
       "      <td>1.050309e+01</td>\n",
       "      <td>2.252841e+01</td>\n",
       "      <td>4.584549e+00</td>\n",
       "      <td>7.519589e+00</td>\n",
       "      <td>3.517346e+00</td>\n",
       "      <td>3.161220e+01</td>\n",
       "      <td>3.384781e+01</td>\n",
       "      <td>25691.160000</td>\n",
       "      <td>1.000000</td>\n",
       "    </tr>\n",
       "  </tbody>\n",
       "</table>\n",
       "<p>8 rows × 31 columns</p>\n",
       "</div>"
      ],
      "text/plain": [
       "                Time            V1            V2            V3            V4  \\\n",
       "count  284807.000000  2.848070e+05  2.848070e+05  2.848070e+05  2.848070e+05   \n",
       "mean    94813.859575  1.168375e-15  3.416908e-16 -1.379537e-15  2.074095e-15   \n",
       "std     47488.145955  1.958696e+00  1.651309e+00  1.516255e+00  1.415869e+00   \n",
       "min         0.000000 -5.640751e+01 -7.271573e+01 -4.832559e+01 -5.683171e+00   \n",
       "25%     54201.500000 -9.203734e-01 -5.985499e-01 -8.903648e-01 -8.486401e-01   \n",
       "50%     84692.000000  1.810880e-02  6.548556e-02  1.798463e-01 -1.984653e-02   \n",
       "75%    139320.500000  1.315642e+00  8.037239e-01  1.027196e+00  7.433413e-01   \n",
       "max    172792.000000  2.454930e+00  2.205773e+01  9.382558e+00  1.687534e+01   \n",
       "\n",
       "                 V5            V6            V7            V8            V9  \\\n",
       "count  2.848070e+05  2.848070e+05  2.848070e+05  2.848070e+05  2.848070e+05   \n",
       "mean   9.604066e-16  1.487313e-15 -5.556467e-16  1.213481e-16 -2.406331e-15   \n",
       "std    1.380247e+00  1.332271e+00  1.237094e+00  1.194353e+00  1.098632e+00   \n",
       "min   -1.137433e+02 -2.616051e+01 -4.355724e+01 -7.321672e+01 -1.343407e+01   \n",
       "25%   -6.915971e-01 -7.682956e-01 -5.540759e-01 -2.086297e-01 -6.430976e-01   \n",
       "50%   -5.433583e-02 -2.741871e-01  4.010308e-02  2.235804e-02 -5.142873e-02   \n",
       "75%    6.119264e-01  3.985649e-01  5.704361e-01  3.273459e-01  5.971390e-01   \n",
       "max    3.480167e+01  7.330163e+01  1.205895e+02  2.000721e+01  1.559499e+01   \n",
       "\n",
       "       ...           V21           V22           V23           V24  \\\n",
       "count  ...  2.848070e+05  2.848070e+05  2.848070e+05  2.848070e+05   \n",
       "mean   ...  1.654067e-16 -3.568593e-16  2.578648e-16  4.473266e-15   \n",
       "std    ...  7.345240e-01  7.257016e-01  6.244603e-01  6.056471e-01   \n",
       "min    ... -3.483038e+01 -1.093314e+01 -4.480774e+01 -2.836627e+00   \n",
       "25%    ... -2.283949e-01 -5.423504e-01 -1.618463e-01 -3.545861e-01   \n",
       "50%    ... -2.945017e-02  6.781943e-03 -1.119293e-02  4.097606e-02   \n",
       "75%    ...  1.863772e-01  5.285536e-01  1.476421e-01  4.395266e-01   \n",
       "max    ...  2.720284e+01  1.050309e+01  2.252841e+01  4.584549e+00   \n",
       "\n",
       "                V25           V26           V27           V28         Amount  \\\n",
       "count  2.848070e+05  2.848070e+05  2.848070e+05  2.848070e+05  284807.000000   \n",
       "mean   5.340915e-16  1.683437e-15 -3.660091e-16 -1.227390e-16      88.349619   \n",
       "std    5.212781e-01  4.822270e-01  4.036325e-01  3.300833e-01     250.120109   \n",
       "min   -1.029540e+01 -2.604551e+00 -2.256568e+01 -1.543008e+01       0.000000   \n",
       "25%   -3.171451e-01 -3.269839e-01 -7.083953e-02 -5.295979e-02       5.600000   \n",
       "50%    1.659350e-02 -5.213911e-02  1.342146e-03  1.124383e-02      22.000000   \n",
       "75%    3.507156e-01  2.409522e-01  9.104512e-02  7.827995e-02      77.165000   \n",
       "max    7.519589e+00  3.517346e+00  3.161220e+01  3.384781e+01   25691.160000   \n",
       "\n",
       "               Class  \n",
       "count  284807.000000  \n",
       "mean        0.001727  \n",
       "std         0.041527  \n",
       "min         0.000000  \n",
       "25%         0.000000  \n",
       "50%         0.000000  \n",
       "75%         0.000000  \n",
       "max         1.000000  \n",
       "\n",
       "[8 rows x 31 columns]"
      ]
     },
     "execution_count": 4,
     "metadata": {},
     "output_type": "execute_result"
    }
   ],
   "source": [
    "# Calculate summary statistics\n",
    "df.describe()"
   ]
  },
  {
   "cell_type": "code",
   "execution_count": 5,
   "id": "f8b6269c",
   "metadata": {
    "execution": {
     "iopub.execute_input": "2023-07-06T10:58:55.409300Z",
     "iopub.status.busy": "2023-07-06T10:58:55.408955Z",
     "iopub.status.idle": "2023-07-06T10:58:55.887247Z",
     "shell.execute_reply": "2023-07-06T10:58:55.886354Z"
    },
    "papermill": {
     "duration": 0.489321,
     "end_time": "2023-07-06T10:58:55.889383",
     "exception": false,
     "start_time": "2023-07-06T10:58:55.400062",
     "status": "completed"
    },
    "tags": []
   },
   "outputs": [
    {
     "data": {
      "image/png": "[encoded data removed]",
      "text/plain": [
       "<Figure size 1000x600 with 1 Axes>"
      ]
     },
     "metadata": {},
     "output_type": "display_data"
    }
   ],
   "source": [
    "# Histogram - Distribution Of \"amount\" Column\n",
    "plt.figure(figsize=(10, 6))\n",
    "sns.histplot(df[\"Amount\"], bins=80)\n",
    "plt.xlabel(\"Amount\")\n",
    "plt.ylabel(\"Count\")\n",
    "plt.xlim(0,2500)\n",
    "plt.show()"
   ]
  },
  {
   "cell_type": "code",
   "execution_count": 6,
   "id": "7803ee2a",
   "metadata": {
    "execution": {
     "iopub.execute_input": "2023-07-06T10:58:55.908712Z",
     "iopub.status.busy": "2023-07-06T10:58:55.908298Z",
     "iopub.status.idle": "2023-07-06T10:58:56.049443Z",
     "shell.execute_reply": "2023-07-06T10:58:56.048724Z"
    },
    "papermill": {
     "duration": 0.152452,
     "end_time": "2023-07-06T10:58:56.051541",
     "exception": false,
     "start_time": "2023-07-06T10:58:55.899089",
     "status": "completed"
    },
    "tags": []
   },
   "outputs": [
    {
     "data": {
      "image/png": "[encoded data removed]",
      "text/plain": [
       "<Figure size 1000x600 with 1 Axes>"
      ]
     },
     "metadata": {},
     "output_type": "display_data"
    }
   ],
   "source": [
    "# Pie Chart - Count Of Fradulent Transactions\n",
    "\n",
    "plt.figure(figsize=(10, 6))\n",
    "labels=[\"NonFraudulent\", \"Fradulent\"]\n",
    "colors = ['#1f77b4', \"#ff7f0e\"]\n",
    "sizes=df[\"Class\"].value_counts()\n",
    "plt.pie(sizes, labels=labels, autopct=\"%1.2f%%\", startangle=90, colors=colors)\n",
    "plt.title(\"Count Of Fradulent Transactions\")\n",
    "plt.axis('equal')\n",
    "plt.show()"
   ]
  },
  {
   "cell_type": "markdown",
   "id": "893ca895",
   "metadata": {
    "papermill": {
     "duration": 0.010626,
     "end_time": "2023-07-06T10:58:56.073274",
     "exception": false,
     "start_time": "2023-07-06T10:58:56.062648",
     "status": "completed"
    },
    "tags": []
   },
   "source": [
    "## Spliting The Data"
   ]
  },
  {
   "cell_type": "code",
   "execution_count": 7,
   "id": "18e25955",
   "metadata": {
    "execution": {
     "iopub.execute_input": "2023-07-06T10:58:56.099293Z",
     "iopub.status.busy": "2023-07-06T10:58:56.098548Z",
     "iopub.status.idle": "2023-07-06T10:58:56.488973Z",
     "shell.execute_reply": "2023-07-06T10:58:56.487314Z"
    },
    "papermill": {
     "duration": 0.40608,
     "end_time": "2023-07-06T10:58:56.491656",
     "exception": false,
     "start_time": "2023-07-06T10:58:56.085576",
     "status": "completed"
    },
    "tags": []
   },
   "outputs": [],
   "source": [
    "# Split the dataset into training and testing sets\n",
    "from sklearn.model_selection import train_test_split\n",
    "\n",
    "X=df.drop(\"Class\", axis=1)\n",
    "y=df[\"Class\"]\n",
    "X_train, X_test, y_train, y_test= train_test_split(X,y,test_size=0.2, random_state=42)"
   ]
  },
  {
   "cell_type": "code",
   "execution_count": 8,
   "id": "f55a0502",
   "metadata": {
    "execution": {
     "iopub.execute_input": "2023-07-06T10:58:56.510488Z",
     "iopub.status.busy": "2023-07-06T10:58:56.510141Z",
     "iopub.status.idle": "2023-07-06T10:58:59.271337Z",
     "shell.execute_reply": "2023-07-06T10:58:59.270523Z"
    },
    "papermill": {
     "duration": 2.773403,
     "end_time": "2023-07-06T10:58:59.273753",
     "exception": false,
     "start_time": "2023-07-06T10:58:56.500350",
     "status": "completed"
    },
    "tags": []
   },
   "outputs": [
    {
     "name": "stderr",
     "output_type": "stream",
     "text": [
      "/opt/conda/lib/python3.10/site-packages/sklearn/linear_model/_logistic.py:458: ConvergenceWarning: lbfgs failed to converge (status=1):\n",
      "STOP: TOTAL NO. of ITERATIONS REACHED LIMIT.\n",
      "\n",
      "Increase the number of iterations (max_iter) or scale the data as shown in:\n",
      "    https://scikit-learn.org/stable/modules/preprocessing.html\n",
      "Please also refer to the documentation for alternative solver options:\n",
      "    https://scikit-learn.org/stable/modules/linear_model.html#logistic-regression\n",
      "  n_iter_i = _check_optimize_result(\n"
     ]
    },
    {
     "data": {
      "text/html": [
       "<style>#sk-container-id-1 {color: black;background-color: white;}#sk-container-id-1 pre{padding: 0;}#sk-container-id-1 div.sk-toggleable {background-color: white;}#sk-container-id-1 label.sk-toggleable__label {cursor: pointer;display: block;width: 100%;margin-bottom: 0;padding: 0.3em;box-sizing: border-box;text-align: center;}#sk-container-id-1 label.sk-toggleable__label-arrow:before {content: \"▸\";float: left;margin-right: 0.25em;color: #696969;}#sk-container-id-1 label.sk-toggleable__label-arrow:hover:before {color: black;}#sk-container-id-1 div.sk-estimator:hover label.sk-toggleable__label-arrow:before {color: black;}#sk-container-id-1 div.sk-toggleable__content {max-height: 0;max-width: 0;overflow: hidden;text-align: left;background-color: #f0f8ff;}#sk-container-id-1 div.sk-toggleable__content pre {margin: 0.2em;color: black;border-radius: 0.25em;background-color: #f0f8ff;}#sk-container-id-1 input.sk-toggleable__control:checked~div.sk-toggleable__content {max-height: 200px;max-width: 100%;overflow: auto;}#sk-container-id-1 input.sk-toggleable__control:checked~label.sk-toggleable__label-arrow:before {content: \"▾\";}#sk-container-id-1 div.sk-estimator input.sk-toggleable__control:checked~label.sk-toggleable__label {background-color: #d4ebff;}#sk-container-id-1 div.sk-label input.sk-toggleable__control:checked~label.sk-toggleable__label {background-color: #d4ebff;}#sk-container-id-1 input.sk-hidden--visually {border: 0;clip: rect(1px 1px 1px 1px);clip: rect(1px, 1px, 1px, 1px);height: 1px;margin: -1px;overflow: hidden;padding: 0;position: absolute;width: 1px;}#sk-container-id-1 div.sk-estimator {font-family: monospace;background-color: #f0f8ff;border: 1px dotted black;border-radius: 0.25em;box-sizing: border-box;margin-bottom: 0.5em;}#sk-container-id-1 div.sk-estimator:hover {background-color: #d4ebff;}#sk-container-id-1 div.sk-parallel-item::after {content: \"\";width: 100%;border-bottom: 1px solid gray;flex-grow: 1;}#sk-container-id-1 div.sk-label:hover label.sk-toggleable__label {background-color: #d4ebff;}#sk-container-id-1 div.sk-serial::before {content: \"\";position: absolute;border-left: 1px solid gray;box-sizing: border-box;top: 0;bottom: 0;left: 50%;z-index: 0;}#sk-container-id-1 div.sk-serial {display: flex;flex-direction: column;align-items: center;background-color: white;padding-right: 0.2em;padding-left: 0.2em;position: relative;}#sk-container-id-1 div.sk-item {position: relative;z-index: 1;}#sk-container-id-1 div.sk-parallel {display: flex;align-items: stretch;justify-content: center;background-color: white;position: relative;}#sk-container-id-1 div.sk-item::before, #sk-container-id-1 div.sk-parallel-item::before {content: \"\";position: absolute;border-left: 1px solid gray;box-sizing: border-box;top: 0;bottom: 0;left: 50%;z-index: -1;}#sk-container-id-1 div.sk-parallel-item {display: flex;flex-direction: column;z-index: 1;position: relative;background-color: white;}#sk-container-id-1 div.sk-parallel-item:first-child::after {align-self: flex-end;width: 50%;}#sk-container-id-1 div.sk-parallel-item:last-child::after {align-self: flex-start;width: 50%;}#sk-container-id-1 div.sk-parallel-item:only-child::after {width: 0;}#sk-container-id-1 div.sk-dashed-wrapped {border: 1px dashed gray;margin: 0 0.4em 0.5em 0.4em;box-sizing: border-box;padding-bottom: 0.4em;background-color: white;}#sk-container-id-1 div.sk-label label {font-family: monospace;font-weight: bold;display: inline-block;line-height: 1.2em;}#sk-container-id-1 div.sk-label-container {text-align: center;}#sk-container-id-1 div.sk-container {/* jupyter's `normalize.less` sets `[hidden] { display: none; }` but bootstrap.min.css set `[hidden] { display: none !important; }` so we also need the `!important` here to be able to override the default hidden behavior on the sphinx rendered scikit-learn.org. See: https://github.com/scikit-learn/scikit-learn/issues/21755 */display: inline-block !important;position: relative;}#sk-container-id-1 div.sk-text-repr-fallback {display: none;}</style><div id=\"sk-container-id-1\" class=\"sk-top-container\"><div class=\"sk-text-repr-fallback\"><pre>LogisticRegression()</pre><b>In a Jupyter environment, please rerun this cell to show the HTML representation or trust the notebook. <br />On GitHub, the HTML representation is unable to render, please try loading this page with nbviewer.org.</b></div><div class=\"sk-container\" hidden><div class=\"sk-item\"><div class=\"sk-estimator sk-toggleable\"><input class=\"sk-toggleable__control sk-hidden--visually\" id=\"sk-estimator-id-1\" type=\"checkbox\" checked><label for=\"sk-estimator-id-1\" class=\"sk-toggleable__label sk-toggleable__label-arrow\">LogisticRegression</label><div class=\"sk-toggleable__content\"><pre>LogisticRegression()</pre></div></div></div></div></div>"
      ],
      "text/plain": [
       "LogisticRegression()"
      ]
     },
     "execution_count": 8,
     "metadata": {},
     "output_type": "execute_result"
    }
   ],
   "source": [
    "# Training the model on the training data\n",
    "from sklearn.linear_model import LogisticRegression\n",
    "\n",
    "model=LogisticRegression()\n",
    "model.fit(X_train, y_train)"
   ]
  },
  {
   "cell_type": "code",
   "execution_count": 9,
   "id": "0f735a0d",
   "metadata": {
    "execution": {
     "iopub.execute_input": "2023-07-06T10:58:59.297980Z",
     "iopub.status.busy": "2023-07-06T10:58:59.297541Z",
     "iopub.status.idle": "2023-07-06T10:58:59.378042Z",
     "shell.execute_reply": "2023-07-06T10:58:59.376839Z"
    },
    "papermill": {
     "duration": 0.095565,
     "end_time": "2023-07-06T10:58:59.380547",
     "exception": false,
     "start_time": "2023-07-06T10:58:59.284982",
     "status": "completed"
    },
    "tags": []
   },
   "outputs": [],
   "source": [
    "# The warning message we received indicates that the logistic regression model did not converge within the default number of iterations. Lets scale the data first and see if it will fix the problem\n",
    "from sklearn.preprocessing import StandardScaler\n",
    "\n",
    "scaler= StandardScaler()\n",
    "X_train_scaled=scaler.fit_transform(X_train)\n",
    "X_test_scaled=scaler.transform(X_test)\n"
   ]
  },
  {
   "cell_type": "code",
   "execution_count": 10,
   "id": "c094d910",
   "metadata": {
    "execution": {
     "iopub.execute_input": "2023-07-06T10:58:59.400161Z",
     "iopub.status.busy": "2023-07-06T10:58:59.399808Z",
     "iopub.status.idle": "2023-07-06T10:59:00.646912Z",
     "shell.execute_reply": "2023-07-06T10:59:00.646158Z"
    },
    "papermill": {
     "duration": 1.259247,
     "end_time": "2023-07-06T10:59:00.649253",
     "exception": false,
     "start_time": "2023-07-06T10:58:59.390006",
     "status": "completed"
    },
    "tags": []
   },
   "outputs": [
    {
     "data": {
      "text/html": [
       "<style>#sk-container-id-2 {color: black;background-color: white;}#sk-container-id-2 pre{padding: 0;}#sk-container-id-2 div.sk-toggleable {background-color: white;}#sk-container-id-2 label.sk-toggleable__label {cursor: pointer;display: block;width: 100%;margin-bottom: 0;padding: 0.3em;box-sizing: border-box;text-align: center;}#sk-container-id-2 label.sk-toggleable__label-arrow:before {content: \"▸\";float: left;margin-right: 0.25em;color: #696969;}#sk-container-id-2 label.sk-toggleable__label-arrow:hover:before {color: black;}#sk-container-id-2 div.sk-estimator:hover label.sk-toggleable__label-arrow:before {color: black;}#sk-container-id-2 div.sk-toggleable__content {max-height: 0;max-width: 0;overflow: hidden;text-align: left;background-color: #f0f8ff;}#sk-container-id-2 div.sk-toggleable__content pre {margin: 0.2em;color: black;border-radius: 0.25em;background-color: #f0f8ff;}#sk-container-id-2 input.sk-toggleable__control:checked~div.sk-toggleable__content {max-height: 200px;max-width: 100%;overflow: auto;}#sk-container-id-2 input.sk-toggleable__control:checked~label.sk-toggleable__label-arrow:before {content: \"▾\";}#sk-container-id-2 div.sk-estimator input.sk-toggleable__control:checked~label.sk-toggleable__label {background-color: #d4ebff;}#sk-container-id-2 div.sk-label input.sk-toggleable__control:checked~label.sk-toggleable__label {background-color: #d4ebff;}#sk-container-id-2 input.sk-hidden--visually {border: 0;clip: rect(1px 1px 1px 1px);clip: rect(1px, 1px, 1px, 1px);height: 1px;margin: -1px;overflow: hidden;padding: 0;position: absolute;width: 1px;}#sk-container-id-2 div.sk-estimator {font-family: monospace;background-color: #f0f8ff;border: 1px dotted black;border-radius: 0.25em;box-sizing: border-box;margin-bottom: 0.5em;}#sk-container-id-2 div.sk-estimator:hover {background-color: #d4ebff;}#sk-container-id-2 div.sk-parallel-item::after {content: \"\";width: 100%;border-bottom: 1px solid gray;flex-grow: 1;}#sk-container-id-2 div.sk-label:hover label.sk-toggleable__label {background-color: #d4ebff;}#sk-container-id-2 div.sk-serial::before {content: \"\";position: absolute;border-left: 1px solid gray;box-sizing: border-box;top: 0;bottom: 0;left: 50%;z-index: 0;}#sk-container-id-2 div.sk-serial {display: flex;flex-direction: column;align-items: center;background-color: white;padding-right: 0.2em;padding-left: 0.2em;position: relative;}#sk-container-id-2 div.sk-item {position: relative;z-index: 1;}#sk-container-id-2 div.sk-parallel {display: flex;align-items: stretch;justify-content: center;background-color: white;position: relative;}#sk-container-id-2 div.sk-item::before, #sk-container-id-2 div.sk-parallel-item::before {content: \"\";position: absolute;border-left: 1px solid gray;box-sizing: border-box;top: 0;bottom: 0;left: 50%;z-index: -1;}#sk-container-id-2 div.sk-parallel-item {display: flex;flex-direction: column;z-index: 1;position: relative;background-color: white;}#sk-container-id-2 div.sk-parallel-item:first-child::after {align-self: flex-end;width: 50%;}#sk-container-id-2 div.sk-parallel-item:last-child::after {align-self: flex-start;width: 50%;}#sk-container-id-2 div.sk-parallel-item:only-child::after {width: 0;}#sk-container-id-2 div.sk-dashed-wrapped {border: 1px dashed gray;margin: 0 0.4em 0.5em 0.4em;box-sizing: border-box;padding-bottom: 0.4em;background-color: white;}#sk-container-id-2 div.sk-label label {font-family: monospace;font-weight: bold;display: inline-block;line-height: 1.2em;}#sk-container-id-2 div.sk-label-container {text-align: center;}#sk-container-id-2 div.sk-container {/* jupyter's `normalize.less` sets `[hidden] { display: none; }` but bootstrap.min.css set `[hidden] { display: none !important; }` so we also need the `!important` here to be able to override the default hidden behavior on the sphinx rendered scikit-learn.org. See: https://github.com/scikit-learn/scikit-learn/issues/21755 */display: inline-block !important;position: relative;}#sk-container-id-2 div.sk-text-repr-fallback {display: none;}</style><div id=\"sk-container-id-2\" class=\"sk-top-container\"><div class=\"sk-text-repr-fallback\"><pre>LogisticRegression()</pre><b>In a Jupyter environment, please rerun this cell to show the HTML representation or trust the notebook. <br />On GitHub, the HTML representation is unable to render, please try loading this page with nbviewer.org.</b></div><div class=\"sk-container\" hidden><div class=\"sk-item\"><div class=\"sk-estimator sk-toggleable\"><input class=\"sk-toggleable__control sk-hidden--visually\" id=\"sk-estimator-id-2\" type=\"checkbox\" checked><label for=\"sk-estimator-id-2\" class=\"sk-toggleable__label sk-toggleable__label-arrow\">LogisticRegression</label><div class=\"sk-toggleable__content\"><pre>LogisticRegression()</pre></div></div></div></div></div>"
      ],
      "text/plain": [
       "LogisticRegression()"
      ]
     },
     "execution_count": 10,
     "metadata": {},
     "output_type": "execute_result"
    }
   ],
   "source": [
    "# Training the model on the scaled training data\n",
    "\n",
    "model.fit(X_train_scaled, y_train)"
   ]
  },
  {
   "cell_type": "code",
   "execution_count": 11,
   "id": "5b8f0ace",
   "metadata": {
    "execution": {
     "iopub.execute_input": "2023-07-06T10:59:00.675004Z",
     "iopub.status.busy": "2023-07-06T10:59:00.674619Z",
     "iopub.status.idle": "2023-07-06T10:59:00.689343Z",
     "shell.execute_reply": "2023-07-06T10:59:00.688598Z"
    },
    "papermill": {
     "duration": 0.030257,
     "end_time": "2023-07-06T10:59:00.691435",
     "exception": false,
     "start_time": "2023-07-06T10:59:00.661178",
     "status": "completed"
    },
    "tags": []
   },
   "outputs": [],
   "source": [
    "# Predicting using scaled testing data using the same scaler\n",
    "\n",
    "X_test_scaled= scaler.transform(X_test)\n",
    "y_pred=model.predict(X_test_scaled)"
   ]
  },
  {
   "cell_type": "markdown",
   "id": "796d3919",
   "metadata": {
    "papermill": {
     "duration": 0.012153,
     "end_time": "2023-07-06T10:59:00.715492",
     "exception": false,
     "start_time": "2023-07-06T10:59:00.703339",
     "status": "completed"
    },
    "tags": []
   },
   "source": [
    "## analyze and evaluate the predictions"
   ]
  },
  {
   "cell_type": "code",
   "execution_count": 12,
   "id": "51b04e8e",
   "metadata": {
    "execution": {
     "iopub.execute_input": "2023-07-06T10:59:00.741126Z",
     "iopub.status.busy": "2023-07-06T10:59:00.740753Z",
     "iopub.status.idle": "2023-07-06T10:59:00.753957Z",
     "shell.execute_reply": "2023-07-06T10:59:00.752780Z"
    },
    "papermill": {
     "duration": 0.029205,
     "end_time": "2023-07-06T10:59:00.756768",
     "exception": false,
     "start_time": "2023-07-06T10:59:00.727563",
     "status": "completed"
    },
    "tags": []
   },
   "outputs": [
    {
     "name": "stdout",
     "output_type": "stream",
     "text": [
      "Accuracy:  0.9991222218320986\n"
     ]
    }
   ],
   "source": [
    "# calculating the accuracy\n",
    "from sklearn.metrics import accuracy_score\n",
    "accuracy= accuracy_score(y_test, y_pred)\n",
    "print(\"Accuracy: \", accuracy)"
   ]
  },
  {
   "cell_type": "code",
   "execution_count": 13,
   "id": "36e4ecaa",
   "metadata": {
    "execution": {
     "iopub.execute_input": "2023-07-06T10:59:00.784653Z",
     "iopub.status.busy": "2023-07-06T10:59:00.783804Z",
     "iopub.status.idle": "2023-07-06T10:59:00.837278Z",
     "shell.execute_reply": "2023-07-06T10:59:00.835810Z"
    },
    "papermill": {
     "duration": 0.06968,
     "end_time": "2023-07-06T10:59:00.839892",
     "exception": false,
     "start_time": "2023-07-06T10:59:00.770212",
     "status": "completed"
    },
    "tags": []
   },
   "outputs": [
    {
     "name": "stdout",
     "output_type": "stream",
     "text": [
      "The confusion matrix is:  [[56855     9]\n",
      " [   41    57]]\n",
      "The precision is:  0.8636363636363636\n",
      "The recall is:  0.5816326530612245\n",
      "The f1 score is:  0.6951219512195121\n"
     ]
    }
   ],
   "source": [
    "# Other metrics\n",
    "from sklearn.metrics import confusion_matrix, precision_score, recall_score, f1_score\n",
    "cm= confusion_matrix(y_test, y_pred)\n",
    "precision= precision_score(y_test, y_pred)\n",
    "recall= recall_score(y_test, y_pred)\n",
    "f1= f1_score(y_test, y_pred)\n",
    "\n",
    "print(\"The confusion matrix is: \", cm)\n",
    "print(\"The precision is: \", precision)\n",
    "print(\"The recall is: \", recall)\n",
    "print(\"The f1 score is: \",f1)\n",
    "\n"
   ]
  },
  {
   "cell_type": "markdown",
   "id": "d0836108",
   "metadata": {
    "papermill": {
     "duration": 0.009604,
     "end_time": "2023-07-06T10:59:00.858942",
     "exception": false,
     "start_time": "2023-07-06T10:59:00.849338",
     "status": "completed"
    },
    "tags": []
   },
   "source": [
    "## Adressing the classe inbalance issue"
   ]
  },
  {
   "cell_type": "code",
   "execution_count": 14,
   "id": "030c2875",
   "metadata": {
    "execution": {
     "iopub.execute_input": "2023-07-06T10:59:00.878556Z",
     "iopub.status.busy": "2023-07-06T10:59:00.878192Z",
     "iopub.status.idle": "2023-07-06T10:59:01.559101Z",
     "shell.execute_reply": "2023-07-06T10:59:01.557804Z"
    },
    "papermill": {
     "duration": 0.693549,
     "end_time": "2023-07-06T10:59:01.561523",
     "exception": false,
     "start_time": "2023-07-06T10:59:00.867974",
     "status": "completed"
    },
    "tags": []
   },
   "outputs": [
    {
     "name": "stdout",
     "output_type": "stream",
     "text": [
      "0    227451\n",
      "1    227451\n",
      "Name: Class, dtype: int64\n"
     ]
    }
   ],
   "source": [
    "# Using SMOTE oversampling\n",
    "from imblearn.over_sampling import SMOTE\n",
    "\n",
    "# Aplly SMOTE over-sampling\n",
    "smote= SMOTE(random_state=42)\n",
    "X_train_oversampled, y_train_oversampled=smote.fit_resample(X_train_scaled, y_train)\n",
    "\n",
    "# Check the class distribution after oversampling\n",
    "\n",
    "print(y_train_oversampled.value_counts())"
   ]
  },
  {
   "cell_type": "code",
   "execution_count": 15,
   "id": "a4d8d9e5",
   "metadata": {
    "execution": {
     "iopub.execute_input": "2023-07-06T10:59:01.581583Z",
     "iopub.status.busy": "2023-07-06T10:59:01.581200Z",
     "iopub.status.idle": "2023-07-06T10:59:04.224831Z",
     "shell.execute_reply": "2023-07-06T10:59:04.223761Z"
    },
    "papermill": {
     "duration": 2.656148,
     "end_time": "2023-07-06T10:59:04.226976",
     "exception": false,
     "start_time": "2023-07-06T10:59:01.570828",
     "status": "completed"
    },
    "tags": []
   },
   "outputs": [
    {
     "data": {
      "text/html": [
       "<style>#sk-container-id-3 {color: black;background-color: white;}#sk-container-id-3 pre{padding: 0;}#sk-container-id-3 div.sk-toggleable {background-color: white;}#sk-container-id-3 label.sk-toggleable__label {cursor: pointer;display: block;width: 100%;margin-bottom: 0;padding: 0.3em;box-sizing: border-box;text-align: center;}#sk-container-id-3 label.sk-toggleable__label-arrow:before {content: \"▸\";float: left;margin-right: 0.25em;color: #696969;}#sk-container-id-3 label.sk-toggleable__label-arrow:hover:before {color: black;}#sk-container-id-3 div.sk-estimator:hover label.sk-toggleable__label-arrow:before {color: black;}#sk-container-id-3 div.sk-toggleable__content {max-height: 0;max-width: 0;overflow: hidden;text-align: left;background-color: #f0f8ff;}#sk-container-id-3 div.sk-toggleable__content pre {margin: 0.2em;color: black;border-radius: 0.25em;background-color: #f0f8ff;}#sk-container-id-3 input.sk-toggleable__control:checked~div.sk-toggleable__content {max-height: 200px;max-width: 100%;overflow: auto;}#sk-container-id-3 input.sk-toggleable__control:checked~label.sk-toggleable__label-arrow:before {content: \"▾\";}#sk-container-id-3 div.sk-estimator input.sk-toggleable__control:checked~label.sk-toggleable__label {background-color: #d4ebff;}#sk-container-id-3 div.sk-label input.sk-toggleable__control:checked~label.sk-toggleable__label {background-color: #d4ebff;}#sk-container-id-3 input.sk-hidden--visually {border: 0;clip: rect(1px 1px 1px 1px);clip: rect(1px, 1px, 1px, 1px);height: 1px;margin: -1px;overflow: hidden;padding: 0;position: absolute;width: 1px;}#sk-container-id-3 div.sk-estimator {font-family: monospace;background-color: #f0f8ff;border: 1px dotted black;border-radius: 0.25em;box-sizing: border-box;margin-bottom: 0.5em;}#sk-container-id-3 div.sk-estimator:hover {background-color: #d4ebff;}#sk-container-id-3 div.sk-parallel-item::after {content: \"\";width: 100%;border-bottom: 1px solid gray;flex-grow: 1;}#sk-container-id-3 div.sk-label:hover label.sk-toggleable__label {background-color: #d4ebff;}#sk-container-id-3 div.sk-serial::before {content: \"\";position: absolute;border-left: 1px solid gray;box-sizing: border-box;top: 0;bottom: 0;left: 50%;z-index: 0;}#sk-container-id-3 div.sk-serial {display: flex;flex-direction: column;align-items: center;background-color: white;padding-right: 0.2em;padding-left: 0.2em;position: relative;}#sk-container-id-3 div.sk-item {position: relative;z-index: 1;}#sk-container-id-3 div.sk-parallel {display: flex;align-items: stretch;justify-content: center;background-color: white;position: relative;}#sk-container-id-3 div.sk-item::before, #sk-container-id-3 div.sk-parallel-item::before {content: \"\";position: absolute;border-left: 1px solid gray;box-sizing: border-box;top: 0;bottom: 0;left: 50%;z-index: -1;}#sk-container-id-3 div.sk-parallel-item {display: flex;flex-direction: column;z-index: 1;position: relative;background-color: white;}#sk-container-id-3 div.sk-parallel-item:first-child::after {align-self: flex-end;width: 50%;}#sk-container-id-3 div.sk-parallel-item:last-child::after {align-self: flex-start;width: 50%;}#sk-container-id-3 div.sk-parallel-item:only-child::after {width: 0;}#sk-container-id-3 div.sk-dashed-wrapped {border: 1px dashed gray;margin: 0 0.4em 0.5em 0.4em;box-sizing: border-box;padding-bottom: 0.4em;background-color: white;}#sk-container-id-3 div.sk-label label {font-family: monospace;font-weight: bold;display: inline-block;line-height: 1.2em;}#sk-container-id-3 div.sk-label-container {text-align: center;}#sk-container-id-3 div.sk-container {/* jupyter's `normalize.less` sets `[hidden] { display: none; }` but bootstrap.min.css set `[hidden] { display: none !important; }` so we also need the `!important` here to be able to override the default hidden behavior on the sphinx rendered scikit-learn.org. See: https://github.com/scikit-learn/scikit-learn/issues/21755 */display: inline-block !important;position: relative;}#sk-container-id-3 div.sk-text-repr-fallback {display: none;}</style><div id=\"sk-container-id-3\" class=\"sk-top-container\"><div class=\"sk-text-repr-fallback\"><pre>LogisticRegression()</pre><b>In a Jupyter environment, please rerun this cell to show the HTML representation or trust the notebook. <br />On GitHub, the HTML representation is unable to render, please try loading this page with nbviewer.org.</b></div><div class=\"sk-container\" hidden><div class=\"sk-item\"><div class=\"sk-estimator sk-toggleable\"><input class=\"sk-toggleable__control sk-hidden--visually\" id=\"sk-estimator-id-3\" type=\"checkbox\" checked><label for=\"sk-estimator-id-3\" class=\"sk-toggleable__label sk-toggleable__label-arrow\">LogisticRegression</label><div class=\"sk-toggleable__content\"><pre>LogisticRegression()</pre></div></div></div></div></div>"
      ],
      "text/plain": [
       "LogisticRegression()"
      ]
     },
     "execution_count": 15,
     "metadata": {},
     "output_type": "execute_result"
    }
   ],
   "source": [
    "# Training the model with oversampled data\n",
    "model.fit(X_train_oversampled,y_train_oversampled)"
   ]
  },
  {
   "cell_type": "code",
   "execution_count": 16,
   "id": "91dac8e8",
   "metadata": {
    "execution": {
     "iopub.execute_input": "2023-07-06T10:59:04.255371Z",
     "iopub.status.busy": "2023-07-06T10:59:04.254174Z",
     "iopub.status.idle": "2023-07-06T10:59:04.261254Z",
     "shell.execute_reply": "2023-07-06T10:59:04.260491Z"
    },
    "papermill": {
     "duration": 0.02221,
     "end_time": "2023-07-06T10:59:04.263017",
     "exception": false,
     "start_time": "2023-07-06T10:59:04.240807",
     "status": "completed"
    },
    "tags": []
   },
   "outputs": [],
   "source": [
    "# Predicting using scaled testing data using the same scaler (again)\n",
    "y_pred= model.predict(X_test_scaled)"
   ]
  },
  {
   "cell_type": "markdown",
   "id": "c1449c93",
   "metadata": {
    "papermill": {
     "duration": 0.011251,
     "end_time": "2023-07-06T10:59:04.286220",
     "exception": false,
     "start_time": "2023-07-06T10:59:04.274969",
     "status": "completed"
    },
    "tags": []
   },
   "source": [
    "## analyze and evaluate the predictions 2"
   ]
  },
  {
   "cell_type": "code",
   "execution_count": 17,
   "id": "d8c37d51",
   "metadata": {
    "execution": {
     "iopub.execute_input": "2023-07-06T10:59:04.311633Z",
     "iopub.status.busy": "2023-07-06T10:59:04.311271Z",
     "iopub.status.idle": "2023-07-06T10:59:04.382574Z",
     "shell.execute_reply": "2023-07-06T10:59:04.380929Z"
    },
    "papermill": {
     "duration": 0.086226,
     "end_time": "2023-07-06T10:59:04.384426",
     "exception": false,
     "start_time": "2023-07-06T10:59:04.298200",
     "status": "completed"
    },
    "tags": []
   },
   "outputs": [
    {
     "name": "stdout",
     "output_type": "stream",
     "text": [
      "accuracy is:  0.9745970998209332\n",
      "The confusion matrix is:  [[55425  1439]\n",
      " [    8    90]]\n",
      "The precision is:  0.058862001308044476\n",
      "The recall is:  0.9183673469387755\n",
      "The f1 score is:  0.11063306699446836\n"
     ]
    }
   ],
   "source": [
    "# Other metrics\n",
    "from sklearn.metrics import accuracy_score, confusion_matrix, precision_score, recall_score, f1_score\n",
    "\n",
    "accuracy= accuracy_score(y_test, y_pred)\n",
    "cm= confusion_matrix(y_test, y_pred)\n",
    "precision= precision_score(y_test, y_pred)\n",
    "recall= recall_score(y_test, y_pred)\n",
    "f1= f1_score(y_test, y_pred)\n",
    "\n",
    "print(\"accuracy is: \", accuracy)\n",
    "print(\"The confusion matrix is: \", cm)\n",
    "print(\"The precision is: \", precision)\n",
    "print(\"The recall is: \", recall)\n",
    "print(\"The f1 score is: \",f1)"
   ]
  },
  {
   "cell_type": "markdown",
   "id": "5dfc76a4",
   "metadata": {
    "papermill": {
     "duration": 0.008972,
     "end_time": "2023-07-06T10:59:04.402914",
     "exception": false,
     "start_time": "2023-07-06T10:59:04.393942",
     "status": "completed"
    },
    "tags": []
   },
   "source": [
    "## Hyperparameter Tuning"
   ]
  },
  {
   "cell_type": "code",
   "execution_count": 18,
   "id": "9b4c81d4",
   "metadata": {
    "execution": {
     "iopub.execute_input": "2023-07-06T10:59:04.425654Z",
     "iopub.status.busy": "2023-07-06T10:59:04.424813Z",
     "iopub.status.idle": "2023-07-06T10:59:04.430459Z",
     "shell.execute_reply": "2023-07-06T10:59:04.429156Z"
    },
    "papermill": {
     "duration": 0.02021,
     "end_time": "2023-07-06T10:59:04.432996",
     "exception": false,
     "start_time": "2023-07-06T10:59:04.412786",
     "status": "completed"
    },
    "tags": []
   },
   "outputs": [],
   "source": [
    "from sklearn.model_selection import GridSearchCV\n",
    "\n",
    "# Define the hyperparameters to tune\n",
    "\n",
    "hyperparameters={'penalty': ['l1', 'l2'], 'C': [ 0.01,0.1, 1],'solver': ['liblinear']}\n",
    "# Create the Grid Search Object\n",
    "grid_search= GridSearchCV(model,hyperparameters, scoring='f1',cv=4, n_jobs=-1)\n"
   ]
  },
  {
   "cell_type": "code",
   "execution_count": 19,
   "id": "09ecf315",
   "metadata": {
    "execution": {
     "iopub.execute_input": "2023-07-06T10:59:04.453498Z",
     "iopub.status.busy": "2023-07-06T10:59:04.453171Z",
     "iopub.status.idle": "2023-07-06T10:59:13.867174Z",
     "shell.execute_reply": "2023-07-06T10:59:13.865227Z"
    },
    "papermill": {
     "duration": 9.427521,
     "end_time": "2023-07-06T10:59:13.870158",
     "exception": false,
     "start_time": "2023-07-06T10:59:04.442637",
     "status": "completed"
    },
    "tags": []
   },
   "outputs": [],
   "source": [
    "# Perform the hyperparameter tuning\n",
    "\n",
    "subset_size=100000\n",
    "X_subset=X_train_oversampled[:subset_size]\n",
    "y_subset=y_train_oversampled[:subset_size]\n",
    "\n",
    "grid_search.fit(X_subset, y_subset)\n",
    "\n",
    "# Get the best hyperparameters and model\n",
    "\n",
    "best_params=grid_search.best_params_\n",
    "best_model=grid_search.best_estimator_"
   ]
  },
  {
   "cell_type": "code",
   "execution_count": 20,
   "id": "dc45f7ec",
   "metadata": {
    "execution": {
     "iopub.execute_input": "2023-07-06T10:59:13.890990Z",
     "iopub.status.busy": "2023-07-06T10:59:13.890589Z",
     "iopub.status.idle": "2023-07-06T10:59:13.902754Z",
     "shell.execute_reply": "2023-07-06T10:59:13.901940Z"
    },
    "papermill": {
     "duration": 0.025498,
     "end_time": "2023-07-06T10:59:13.905624",
     "exception": false,
     "start_time": "2023-07-06T10:59:13.880126",
     "status": "completed"
    },
    "tags": []
   },
   "outputs": [],
   "source": [
    "# Evaluate the best model on the test set\n",
    "y_pred=best_model.predict(X_test_scaled)"
   ]
  },
  {
   "cell_type": "code",
   "execution_count": 21,
   "id": "dcd2ed61",
   "metadata": {
    "execution": {
     "iopub.execute_input": "2023-07-06T10:59:13.931799Z",
     "iopub.status.busy": "2023-07-06T10:59:13.931398Z",
     "iopub.status.idle": "2023-07-06T10:59:13.999285Z",
     "shell.execute_reply": "2023-07-06T10:59:13.998481Z"
    },
    "papermill": {
     "duration": 0.083355,
     "end_time": "2023-07-06T10:59:14.001426",
     "exception": false,
     "start_time": "2023-07-06T10:59:13.918071",
     "status": "completed"
    },
    "tags": []
   },
   "outputs": [
    {
     "name": "stdout",
     "output_type": "stream",
     "text": [
      "accuracy is:  0.9991222218320986\n",
      "The confusion matrix is:  [[56854    10]\n",
      " [   40    58]]\n",
      "The precision is:  0.8529411764705882\n",
      "The recall is:  0.5918367346938775\n",
      "The f1 score is:  0.6987951807228915\n"
     ]
    }
   ],
   "source": [
    "# Evaluate the best model\n",
    "\n",
    "accuracy= accuracy_score(y_test, y_pred)\n",
    "cm= confusion_matrix(y_test, y_pred)\n",
    "precision= precision_score(y_test, y_pred)\n",
    "recall= recall_score(y_test, y_pred)\n",
    "f1= f1_score(y_test, y_pred)\n",
    "\n",
    "print(\"accuracy is: \", accuracy)\n",
    "print(\"The confusion matrix is: \", cm)\n",
    "print(\"The precision is: \", precision)\n",
    "print(\"The recall is: \", recall)\n",
    "print(\"The f1 score is: \",f1)"
   ]
  },
  {
   "cell_type": "markdown",
   "id": "6ff292d4",
   "metadata": {
    "papermill": {
     "duration": 0.010415,
     "end_time": "2023-07-06T10:59:14.024469",
     "exception": false,
     "start_time": "2023-07-06T10:59:14.014054",
     "status": "completed"
    },
    "tags": []
   },
   "source": [
    "**The results show**\n",
    "*  56854 represents the true negatives \n",
    "*  10 represents the false positives\n",
    "*  40 represents the false negatives\n",
    "*  58 represents the true positives "
   ]
  },
  {
   "cell_type": "code",
   "execution_count": 22,
   "id": "044e351a",
   "metadata": {
    "execution": {
     "iopub.execute_input": "2023-07-06T10:59:14.045864Z",
     "iopub.status.busy": "2023-07-06T10:59:14.045476Z",
     "iopub.status.idle": "2023-07-06T10:59:14.054089Z",
     "shell.execute_reply": "2023-07-06T10:59:14.053155Z"
    },
    "papermill": {
     "duration": 0.022489,
     "end_time": "2023-07-06T10:59:14.056764",
     "exception": false,
     "start_time": "2023-07-06T10:59:14.034275",
     "status": "completed"
    },
    "tags": []
   },
   "outputs": [],
   "source": [
    "# Calculating predicted probabilities\n",
    "predicted_probabilities=model.predict_proba(X_test_scaled)[:,1]"
   ]
  },
  {
   "cell_type": "markdown",
   "id": "b60fe0ae",
   "metadata": {
    "papermill": {
     "duration": 0.012303,
     "end_time": "2023-07-06T10:59:14.082595",
     "exception": false,
     "start_time": "2023-07-06T10:59:14.070292",
     "status": "completed"
    },
    "tags": []
   },
   "source": [
    "### True Positive Rate against False Positive Rate"
   ]
  },
  {
   "cell_type": "code",
   "execution_count": 23,
   "id": "12fdb894",
   "metadata": {
    "execution": {
     "iopub.execute_input": "2023-07-06T10:59:14.116605Z",
     "iopub.status.busy": "2023-07-06T10:59:14.115074Z",
     "iopub.status.idle": "2023-07-06T10:59:14.163117Z",
     "shell.execute_reply": "2023-07-06T10:59:14.162246Z"
    },
    "papermill": {
     "duration": 0.067149,
     "end_time": "2023-07-06T10:59:14.165762",
     "exception": false,
     "start_time": "2023-07-06T10:59:14.098613",
     "status": "completed"
    },
    "tags": []
   },
   "outputs": [],
   "source": [
    "# The ROC curve\n",
    "from sklearn.metrics import roc_curve , roc_auc_score\n",
    "import matplotlib.pyplot as plt\n",
    "\n",
    "fpr, tpr, tresholds = roc_curve(y_test, predicted_probabilities)\n",
    "\n",
    "# Compute the Area Under the Curve (AUC)\n",
    "auc= roc_auc_score(y_test, predicted_probabilities)"
   ]
  },
  {
   "cell_type": "code",
   "execution_count": 24,
   "id": "11b15b8f",
   "metadata": {
    "execution": {
     "iopub.execute_input": "2023-07-06T10:59:14.190534Z",
     "iopub.status.busy": "2023-07-06T10:59:14.189680Z",
     "iopub.status.idle": "2023-07-06T10:59:14.418971Z",
     "shell.execute_reply": "2023-07-06T10:59:14.417432Z"
    },
    "papermill": {
     "duration": 0.244777,
     "end_time": "2023-07-06T10:59:14.421986",
     "exception": false,
     "start_time": "2023-07-06T10:59:14.177209",
     "status": "completed"
    },
    "tags": []
   },
   "outputs": [
    {
     "data": {
      "image/png": "[encoded data removed]",
      "text/plain": [
       "<Figure size 640x480 with 1 Axes>"
      ]
     },
     "metadata": {},
     "output_type": "display_data"
    }
   ],
   "source": [
    "# Plot The ROC Curve\n",
    "plt.plot(fpr, tpr, label= 'ROC Curve Area (area = %0.2f)' %auc)\n",
    "plt.plot([0,1],[0,1],'--')\n",
    "plt.xlabel('False Positive Rate')\n",
    "plt.ylabel('true Positive Rate')\n",
    "plt.title(\"Receiver Operating Characteristic\")\n",
    "plt.legend(loc='lower right')\n",
    "plt.show()"
   ]
  },
  {
   "cell_type": "code",
   "execution_count": 25,
   "id": "90274925",
   "metadata": {
    "execution": {
     "iopub.execute_input": "2023-07-06T10:59:14.444316Z",
     "iopub.status.busy": "2023-07-06T10:59:14.443879Z",
     "iopub.status.idle": "2023-07-06T10:59:14.460369Z",
     "shell.execute_reply": "2023-07-06T10:59:14.459138Z"
    },
    "papermill": {
     "duration": 0.030177,
     "end_time": "2023-07-06T10:59:14.462915",
     "exception": false,
     "start_time": "2023-07-06T10:59:14.432738",
     "status": "completed"
    },
    "tags": []
   },
   "outputs": [],
   "source": [
    "# Calculate precision and recall values\n",
    "\n",
    "from sklearn.metrics import precision_recall_curve\n",
    "precision, recall, thresholds= precision_recall_curve(y_test, predicted_probabilities)"
   ]
  },
  {
   "cell_type": "code",
   "execution_count": 26,
   "id": "83a2301b",
   "metadata": {
    "execution": {
     "iopub.execute_input": "2023-07-06T10:59:14.485361Z",
     "iopub.status.busy": "2023-07-06T10:59:14.484480Z",
     "iopub.status.idle": "2023-07-06T10:59:14.715959Z",
     "shell.execute_reply": "2023-07-06T10:59:14.715259Z"
    },
    "papermill": {
     "duration": 0.244648,
     "end_time": "2023-07-06T10:59:14.717754",
     "exception": false,
     "start_time": "2023-07-06T10:59:14.473106",
     "status": "completed"
    },
    "tags": []
   },
   "outputs": [
    {
     "data": {
      "image/png": "[encoded data removed]",
      "text/plain": [
       "<Figure size 640x480 with 1 Axes>"
      ]
     },
     "metadata": {},
     "output_type": "display_data"
    }
   ],
   "source": [
    "# Plot precision-recall curve\n",
    "plt.plot(recall, precision, marker='.')\n",
    "plt.xlabel('Recall')\n",
    "plt.ylabel('Precision')\n",
    "plt.title('Precision_Recall Curve')\n",
    "plt.show()"
   ]
  },
  {
   "cell_type": "markdown",
   "id": "d37046a4",
   "metadata": {
    "papermill": {
     "duration": 0.010085,
     "end_time": "2023-07-06T10:59:14.738376",
     "exception": false,
     "start_time": "2023-07-06T10:59:14.728291",
     "status": "completed"
    },
    "tags": []
   },
   "source": [
    "## Bar Charts Comparing Actual And Predicted Values"
   ]
  },
  {
   "cell_type": "code",
   "execution_count": 27,
   "id": "1dbea7cd",
   "metadata": {
    "execution": {
     "iopub.execute_input": "2023-07-06T10:59:14.760937Z",
     "iopub.status.busy": "2023-07-06T10:59:14.760115Z",
     "iopub.status.idle": "2023-07-06T10:59:15.011875Z",
     "shell.execute_reply": "2023-07-06T10:59:15.011008Z"
    },
    "papermill": {
     "duration": 0.265149,
     "end_time": "2023-07-06T10:59:15.013757",
     "exception": false,
     "start_time": "2023-07-06T10:59:14.748608",
     "status": "completed"
    },
    "tags": []
   },
   "outputs": [
    {
     "data": {
      "image/png": "[encoded data removed]",
      "text/plain": [
       "<Figure size 1700x1000 with 1 Axes>"
      ]
     },
     "metadata": {},
     "output_type": "display_data"
    }
   ],
   "source": [
    "labels= ['Is Not Fraud', 'Is Fraud']\n",
    "color= ['orange','blue']\n",
    "plt.figure(figsize=(17,10))\n",
    "\n",
    "x=np.arange(len(labels))\n",
    "bar_width=0.35\n",
    "\n",
    "# Calculate the counts of actual and predicted values\n",
    "actual_counts= np.bincount(y_test)\n",
    "predicted_counts= np.bincount(y_pred)\n",
    "\n",
    "# Create a bar chart for the actual values\n",
    "plt.bar(x - bar_width/2, actual_counts, width=bar_width, label='Actual', alpha=0.75, color=color[0])\n",
    "\n",
    "# Create a bar chart for the predicted values\n",
    "plt.bar(x + bar_width/2, predicted_counts, width=bar_width, label='Predicted', alpha=0.75, color=color[1])\n",
    "\n",
    "plt.xlabel('Class')\n",
    "plt.ylabel('Count')\n",
    "plt.title('Actual vs Predicted Values')\n",
    "plt.xticks(x, labels)\n",
    "plt.legend()\n",
    "plt.show()\n"
   ]
  },
  {
   "cell_type": "code",
   "execution_count": null,
   "id": "00a2fa05",
   "metadata": {
    "papermill": {
     "duration": 0.009929,
     "end_time": "2023-07-06T10:59:15.034175",
     "exception": false,
     "start_time": "2023-07-06T10:59:15.024246",
     "status": "completed"
    },
    "tags": []
   },
   "outputs": [],
   "source": []
  }
 ],
 "metadata": {
  "kernelspec": {
   "display_name": "Python 3",
   "language": "python",
   "name": "python3"
  },
  "language_info": {
   "codemirror_mode": {
    "name": "ipython",
    "version": 3
   },
   "file_extension": ".py",
   "mimetype": "text/x-python",
   "name": "python",
   "nbconvert_exporter": "python",
   "pygments_lexer": "ipython3",
   "version": "3.10.10"
  },
  "papermill": {
   "default_parameters": {},
   "duration": 37.69068,
   "end_time": "2023-07-06T10:59:17.662960",
   "environment_variables": {},
   "exception": null,
   "input_path": "__notebook__.ipynb",
   "output_path": "__notebook__.ipynb",
   "parameters": {},
   "start_time": "2023-07-06T10:58:39.972280",
   "version": "2.4.0"
  }
 },
 "nbformat": 4,
 "nbformat_minor": 5
}
