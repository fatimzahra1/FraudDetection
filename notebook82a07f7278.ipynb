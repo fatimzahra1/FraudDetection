{
 "cells": [
  {
   "cell_type": "code",
   "execution_count": 1,
   "id": "31a32610",
   "metadata": {
    "_cell_guid": "b1076dfc-b9ad-4769-8c92-a6c4dae69d19",
    "_uuid": "8f2839f25d086af736a60e9eeb907d3b93b6e0e5",
    "execution": {
     "iopub.execute_input": "2023-07-04T09:15:27.646335Z",
     "iopub.status.busy": "2023-07-04T09:15:27.645911Z",
     "iopub.status.idle": "2023-07-04T09:15:29.061902Z",
     "shell.execute_reply": "2023-07-04T09:15:29.060705Z"
    },
    "papermill": {
     "duration": 1.425163,
     "end_time": "2023-07-04T09:15:29.064798",
     "exception": false,
     "start_time": "2023-07-04T09:15:27.639635",
     "status": "completed"
    },
    "tags": []
   },
   "outputs": [
    {
     "name": "stdout",
     "output_type": "stream",
     "text": [
      "/kaggle/input/frauddetection/transactions_train.csv\n"
     ]
    }
   ],
   "source": [
    "# This Python 3 environment comes with many helpful analytics libraries installed\n",
    "# It is defined by the kaggle/python Docker image: https://github.com/kaggle/docker-python\n",
    "# For example, here's several helpful packages to load\n",
    "\n",
    "import numpy as np # linear algebra\n",
    "import pandas as pd # data processing, CSV file I/O (e.g. pd.read_csv)\n",
    "import seaborn as sns\n",
    "import matplotlib.pyplot as plt\n",
    "\n",
    "# Input data files are available in the read-only \"../input/\" directory\n",
    "# For example, running this (by clicking run or pressing Shift+Enter) will list all files under the input directory\n",
    "\n",
    "import os\n",
    "for dirname, _, filenames in os.walk('/kaggle/input'):\n",
    "    for filename in filenames:\n",
    "        print(os.path.join(dirname, filename))\n",
    "\n",
    "# You can write up to 20GB to the current directory (/kaggle/working/) that gets preserved as output when you create a version using \"Save & Run All\" \n",
    "# You can also write temporary files to /kaggle/temp/, but they won't be saved outside of the current session"
   ]
  },
  {
   "cell_type": "code",
   "execution_count": 2,
   "id": "d5a53d22",
   "metadata": {
    "execution": {
     "iopub.execute_input": "2023-07-04T09:15:29.075091Z",
     "iopub.status.busy": "2023-07-04T09:15:29.074649Z",
     "iopub.status.idle": "2023-07-04T09:15:49.388906Z",
     "shell.execute_reply": "2023-07-04T09:15:49.387770Z"
    },
    "papermill": {
     "duration": 20.322477,
     "end_time": "2023-07-04T09:15:49.391669",
     "exception": false,
     "start_time": "2023-07-04T09:15:29.069192",
     "status": "completed"
    },
    "tags": []
   },
   "outputs": [
    {
     "data": {
      "text/html": [
       "<div>\n",
       "<style scoped>\n",
       "    .dataframe tbody tr th:only-of-type {\n",
       "        vertical-align: middle;\n",
       "    }\n",
       "\n",
       "    .dataframe tbody tr th {\n",
       "        vertical-align: top;\n",
       "    }\n",
       "\n",
       "    .dataframe thead th {\n",
       "        text-align: right;\n",
       "    }\n",
       "</style>\n",
       "<table border=\"1\" class=\"dataframe\">\n",
       "  <thead>\n",
       "    <tr style=\"text-align: right;\">\n",
       "      <th></th>\n",
       "      <th>step</th>\n",
       "      <th>type</th>\n",
       "      <th>amount</th>\n",
       "      <th>nameOrig</th>\n",
       "      <th>oldbalanceOrig</th>\n",
       "      <th>newbalanceOrig</th>\n",
       "      <th>nameDest</th>\n",
       "      <th>oldbalanceDest</th>\n",
       "      <th>newbalanceDest</th>\n",
       "      <th>isFraud</th>\n",
       "    </tr>\n",
       "  </thead>\n",
       "  <tbody>\n",
       "    <tr>\n",
       "      <th>0</th>\n",
       "      <td>1</td>\n",
       "      <td>PAYMENT</td>\n",
       "      <td>9839.64</td>\n",
       "      <td>C1231006815</td>\n",
       "      <td>170136.0</td>\n",
       "      <td>160296.36</td>\n",
       "      <td>M1979787155</td>\n",
       "      <td>0.0</td>\n",
       "      <td>0.0</td>\n",
       "      <td>0</td>\n",
       "    </tr>\n",
       "    <tr>\n",
       "      <th>1</th>\n",
       "      <td>1</td>\n",
       "      <td>PAYMENT</td>\n",
       "      <td>1864.28</td>\n",
       "      <td>C1666544295</td>\n",
       "      <td>21249.0</td>\n",
       "      <td>19384.72</td>\n",
       "      <td>M2044282225</td>\n",
       "      <td>0.0</td>\n",
       "      <td>0.0</td>\n",
       "      <td>0</td>\n",
       "    </tr>\n",
       "  </tbody>\n",
       "</table>\n",
       "</div>"
      ],
      "text/plain": [
       "   step     type   amount     nameOrig  oldbalanceOrig  newbalanceOrig  \\\n",
       "0     1  PAYMENT  9839.64  C1231006815        170136.0       160296.36   \n",
       "1     1  PAYMENT  1864.28  C1666544295         21249.0        19384.72   \n",
       "\n",
       "      nameDest  oldbalanceDest  newbalanceDest  isFraud  \n",
       "0  M1979787155             0.0             0.0        0  \n",
       "1  M2044282225             0.0             0.0        0  "
      ]
     },
     "execution_count": 2,
     "metadata": {},
     "output_type": "execute_result"
    }
   ],
   "source": [
    "df=pd.read_csv(\"../input/frauddetection/transactions_train.csv\")\n",
    "df.head(2)"
   ]
  },
  {
   "cell_type": "markdown",
   "id": "1bbf887c",
   "metadata": {
    "papermill": {
     "duration": 0.004041,
     "end_time": "2023-07-04T09:15:49.400278",
     "exception": false,
     "start_time": "2023-07-04T09:15:49.396237",
     "status": "completed"
    },
    "tags": []
   },
   "source": [
    "# Expoloratory Data Analysis (EDA)"
   ]
  },
  {
   "cell_type": "code",
   "execution_count": 3,
   "id": "a9e36229",
   "metadata": {
    "execution": {
     "iopub.execute_input": "2023-07-04T09:15:49.410438Z",
     "iopub.status.busy": "2023-07-04T09:15:49.410045Z",
     "iopub.status.idle": "2023-07-04T09:15:49.435592Z",
     "shell.execute_reply": "2023-07-04T09:15:49.434464Z"
    },
    "papermill": {
     "duration": 0.033838,
     "end_time": "2023-07-04T09:15:49.438325",
     "exception": false,
     "start_time": "2023-07-04T09:15:49.404487",
     "status": "completed"
    },
    "tags": []
   },
   "outputs": [
    {
     "name": "stdout",
     "output_type": "stream",
     "text": [
      "<class 'pandas.core.frame.DataFrame'>\n",
      "RangeIndex: 6351193 entries, 0 to 6351192\n",
      "Data columns (total 10 columns):\n",
      " #   Column          Dtype  \n",
      "---  ------          -----  \n",
      " 0   step            int64  \n",
      " 1   type            object \n",
      " 2   amount          float64\n",
      " 3   nameOrig        object \n",
      " 4   oldbalanceOrig  float64\n",
      " 5   newbalanceOrig  float64\n",
      " 6   nameDest        object \n",
      " 7   oldbalanceDest  float64\n",
      " 8   newbalanceDest  float64\n",
      " 9   isFraud         int64  \n",
      "dtypes: float64(5), int64(2), object(3)\n",
      "memory usage: 484.6+ MB\n"
     ]
    }
   ],
   "source": [
    "df.info()"
   ]
  },
  {
   "cell_type": "code",
   "execution_count": 4,
   "id": "992f1401",
   "metadata": {
    "execution": {
     "iopub.execute_input": "2023-07-04T09:15:49.449040Z",
     "iopub.status.busy": "2023-07-04T09:15:49.448591Z",
     "iopub.status.idle": "2023-07-04T09:15:51.336227Z",
     "shell.execute_reply": "2023-07-04T09:15:51.335253Z"
    },
    "papermill": {
     "duration": 1.895904,
     "end_time": "2023-07-04T09:15:51.338710",
     "exception": false,
     "start_time": "2023-07-04T09:15:49.442806",
     "status": "completed"
    },
    "tags": []
   },
   "outputs": [
    {
     "data": {
      "text/html": [
       "<div>\n",
       "<style scoped>\n",
       "    .dataframe tbody tr th:only-of-type {\n",
       "        vertical-align: middle;\n",
       "    }\n",
       "\n",
       "    .dataframe tbody tr th {\n",
       "        vertical-align: top;\n",
       "    }\n",
       "\n",
       "    .dataframe thead th {\n",
       "        text-align: right;\n",
       "    }\n",
       "</style>\n",
       "<table border=\"1\" class=\"dataframe\">\n",
       "  <thead>\n",
       "    <tr style=\"text-align: right;\">\n",
       "      <th></th>\n",
       "      <th>step</th>\n",
       "      <th>amount</th>\n",
       "      <th>oldbalanceOrig</th>\n",
       "      <th>newbalanceOrig</th>\n",
       "      <th>oldbalanceDest</th>\n",
       "      <th>newbalanceDest</th>\n",
       "      <th>isFraud</th>\n",
       "    </tr>\n",
       "  </thead>\n",
       "  <tbody>\n",
       "    <tr>\n",
       "      <th>count</th>\n",
       "      <td>6.351193e+06</td>\n",
       "      <td>6.351193e+06</td>\n",
       "      <td>6.351193e+06</td>\n",
       "      <td>6.351193e+06</td>\n",
       "      <td>6.351193e+06</td>\n",
       "      <td>6.351193e+06</td>\n",
       "      <td>6.351193e+06</td>\n",
       "    </tr>\n",
       "    <tr>\n",
       "      <th>mean</th>\n",
       "      <td>2.425553e+02</td>\n",
       "      <td>1.798155e+05</td>\n",
       "      <td>8.347957e+05</td>\n",
       "      <td>8.561696e+05</td>\n",
       "      <td>1.101043e+06</td>\n",
       "      <td>1.225372e+06</td>\n",
       "      <td>1.215047e-03</td>\n",
       "    </tr>\n",
       "    <tr>\n",
       "      <th>std</th>\n",
       "      <td>1.410676e+02</td>\n",
       "      <td>6.036310e+05</td>\n",
       "      <td>2.889959e+06</td>\n",
       "      <td>2.926073e+06</td>\n",
       "      <td>3.398924e+06</td>\n",
       "      <td>3.674293e+06</td>\n",
       "      <td>3.483635e-02</td>\n",
       "    </tr>\n",
       "    <tr>\n",
       "      <th>min</th>\n",
       "      <td>1.000000e+00</td>\n",
       "      <td>0.000000e+00</td>\n",
       "      <td>0.000000e+00</td>\n",
       "      <td>0.000000e+00</td>\n",
       "      <td>0.000000e+00</td>\n",
       "      <td>0.000000e+00</td>\n",
       "      <td>0.000000e+00</td>\n",
       "    </tr>\n",
       "    <tr>\n",
       "      <th>25%</th>\n",
       "      <td>1.550000e+02</td>\n",
       "      <td>1.338829e+04</td>\n",
       "      <td>0.000000e+00</td>\n",
       "      <td>0.000000e+00</td>\n",
       "      <td>0.000000e+00</td>\n",
       "      <td>0.000000e+00</td>\n",
       "      <td>0.000000e+00</td>\n",
       "    </tr>\n",
       "    <tr>\n",
       "      <th>50%</th>\n",
       "      <td>2.380000e+02</td>\n",
       "      <td>7.486483e+04</td>\n",
       "      <td>1.415300e+04</td>\n",
       "      <td>0.000000e+00</td>\n",
       "      <td>1.330865e+05</td>\n",
       "      <td>2.149190e+05</td>\n",
       "      <td>0.000000e+00</td>\n",
       "    </tr>\n",
       "    <tr>\n",
       "      <th>75%</th>\n",
       "      <td>3.340000e+02</td>\n",
       "      <td>2.087152e+05</td>\n",
       "      <td>1.073460e+05</td>\n",
       "      <td>1.443651e+05</td>\n",
       "      <td>9.438661e+05</td>\n",
       "      <td>1.112791e+06</td>\n",
       "      <td>0.000000e+00</td>\n",
       "    </tr>\n",
       "    <tr>\n",
       "      <th>max</th>\n",
       "      <td>6.990000e+02</td>\n",
       "      <td>9.244552e+07</td>\n",
       "      <td>5.958504e+07</td>\n",
       "      <td>4.958504e+07</td>\n",
       "      <td>3.560159e+08</td>\n",
       "      <td>3.561793e+08</td>\n",
       "      <td>1.000000e+00</td>\n",
       "    </tr>\n",
       "  </tbody>\n",
       "</table>\n",
       "</div>"
      ],
      "text/plain": [
       "               step        amount  oldbalanceOrig  newbalanceOrig  \\\n",
       "count  6.351193e+06  6.351193e+06    6.351193e+06    6.351193e+06   \n",
       "mean   2.425553e+02  1.798155e+05    8.347957e+05    8.561696e+05   \n",
       "std    1.410676e+02  6.036310e+05    2.889959e+06    2.926073e+06   \n",
       "min    1.000000e+00  0.000000e+00    0.000000e+00    0.000000e+00   \n",
       "25%    1.550000e+02  1.338829e+04    0.000000e+00    0.000000e+00   \n",
       "50%    2.380000e+02  7.486483e+04    1.415300e+04    0.000000e+00   \n",
       "75%    3.340000e+02  2.087152e+05    1.073460e+05    1.443651e+05   \n",
       "max    6.990000e+02  9.244552e+07    5.958504e+07    4.958504e+07   \n",
       "\n",
       "       oldbalanceDest  newbalanceDest       isFraud  \n",
       "count    6.351193e+06    6.351193e+06  6.351193e+06  \n",
       "mean     1.101043e+06    1.225372e+06  1.215047e-03  \n",
       "std      3.398924e+06    3.674293e+06  3.483635e-02  \n",
       "min      0.000000e+00    0.000000e+00  0.000000e+00  \n",
       "25%      0.000000e+00    0.000000e+00  0.000000e+00  \n",
       "50%      1.330865e+05    2.149190e+05  0.000000e+00  \n",
       "75%      9.438661e+05    1.112791e+06  0.000000e+00  \n",
       "max      3.560159e+08    3.561793e+08  1.000000e+00  "
      ]
     },
     "execution_count": 4,
     "metadata": {},
     "output_type": "execute_result"
    }
   ],
   "source": [
    "df.describe()"
   ]
  },
  {
   "cell_type": "code",
   "execution_count": 5,
   "id": "9f759b96",
   "metadata": {
    "execution": {
     "iopub.execute_input": "2023-07-04T09:15:51.350210Z",
     "iopub.status.busy": "2023-07-04T09:15:51.349751Z",
     "iopub.status.idle": "2023-07-04T09:15:51.418897Z",
     "shell.execute_reply": "2023-07-04T09:15:51.417742Z"
    },
    "papermill": {
     "duration": 0.078001,
     "end_time": "2023-07-04T09:15:51.421605",
     "exception": false,
     "start_time": "2023-07-04T09:15:51.343604",
     "status": "completed"
    },
    "tags": []
   },
   "outputs": [
    {
     "data": {
      "text/plain": [
       "0    6343476\n",
       "1       7717\n",
       "Name: isFraud, dtype: int64"
      ]
     },
     "execution_count": 5,
     "metadata": {},
     "output_type": "execute_result"
    }
   ],
   "source": [
    "fraud_counts=df[\"isFraud\"].value_counts()\n",
    "fraud_counts"
   ]
  },
  {
   "cell_type": "markdown",
   "id": "4a6fd3f5",
   "metadata": {
    "papermill": {
     "duration": 0.004758,
     "end_time": "2023-07-04T09:15:51.431315",
     "exception": false,
     "start_time": "2023-07-04T09:15:51.426557",
     "status": "completed"
    },
    "tags": []
   },
   "source": [
    "### Pie chart to illustrate the Proportion Of Fraudulent Transactions."
   ]
  },
  {
   "cell_type": "code",
   "execution_count": 6,
   "id": "17d8e82a",
   "metadata": {
    "execution": {
     "iopub.execute_input": "2023-07-04T09:15:51.443839Z",
     "iopub.status.busy": "2023-07-04T09:15:51.443401Z",
     "iopub.status.idle": "2023-07-04T09:15:51.655938Z",
     "shell.execute_reply": "2023-07-04T09:15:51.654354Z"
    },
    "papermill": {
     "duration": 0.224045,
     "end_time": "2023-07-04T09:15:51.660308",
     "exception": false,
     "start_time": "2023-07-04T09:15:51.436263",
     "status": "completed"
    },
    "tags": []
   },
   "outputs": [
    {
     "data": {
      "image/png": "[encoded data removed]",
      "text/plain": [
       "<Figure size 800x600 with 1 Axes>"
      ]
     },
     "metadata": {},
     "output_type": "display_data"
    }
   ],
   "source": [
    "labels= [\"Not Fraud\", \"Fraud\"]\n",
    "counts=[fraud_counts[0],fraud_counts[1]]\n",
    "plt.figure(figsize=(8,6))\n",
    "plt.pie(counts,labels=labels,autopct=\"%1.1f%%\",startangle=90)\n",
    "plt.title(\"Proportion Of Fraudulent Transactions\")\n",
    "plt.show()"
   ]
  },
  {
   "cell_type": "code",
   "execution_count": 7,
   "id": "0f8e364f",
   "metadata": {
    "execution": {
     "iopub.execute_input": "2023-07-04T09:15:51.686990Z",
     "iopub.status.busy": "2023-07-04T09:15:51.685757Z",
     "iopub.status.idle": "2023-07-04T09:17:10.532893Z",
     "shell.execute_reply": "2023-07-04T09:17:10.531616Z"
    },
    "papermill": {
     "duration": 78.866617,
     "end_time": "2023-07-04T09:17:10.541065",
     "exception": false,
     "start_time": "2023-07-04T09:15:51.674448",
     "status": "completed"
    },
    "tags": []
   },
   "outputs": [
    {
     "data": {
      "image/png": "[encoded data removed]",
      "text/plain": [
       "<Figure size 1000x600 with 1 Axes>"
      ]
     },
     "metadata": {},
     "output_type": "display_data"
    }
   ],
   "source": [
    "# Histogram - Distribution Of \"amount\" Column\n",
    "plt.figure(figsize=(10,6))\n",
    "sns.histplot(df[\"amount\"])\n",
    "plt.xlabel(\"Amount\")\n",
    "plt.ylabel(\"Count\")\n",
    "plt.show()"
   ]
  },
  {
   "cell_type": "code",
   "execution_count": null,
   "id": "2f8b283f",
   "metadata": {
    "papermill": {
     "duration": 0.005429,
     "end_time": "2023-07-04T09:17:10.552168",
     "exception": false,
     "start_time": "2023-07-04T09:17:10.546739",
     "status": "completed"
    },
    "tags": []
   },
   "outputs": [],
   "source": []
  }
 ],
 "metadata": {
  "kernelspec": {
   "display_name": "Python 3",
   "language": "python",
   "name": "python3"
  },
  "language_info": {
   "codemirror_mode": {
    "name": "ipython",
    "version": 3
   },
   "file_extension": ".py",
   "mimetype": "text/x-python",
   "name": "python",
   "nbconvert_exporter": "python",
   "pygments_lexer": "ipython3",
   "version": "3.10.10"
  },
  "papermill": {
   "default_parameters": {},
   "duration": 117.661891,
   "end_time": "2023-07-04T09:17:13.179165",
   "environment_variables": {},
   "exception": null,
   "input_path": "__notebook__.ipynb",
   "output_path": "__notebook__.ipynb",
   "parameters": {},
   "start_time": "2023-07-04T09:15:15.517274",
   "version": "2.4.0"
  }
 },
 "nbformat": 4,
 "nbformat_minor": 5
}
